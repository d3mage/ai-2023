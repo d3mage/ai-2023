{
 "cells": [
  {
   "cell_type": "markdown",
   "id": "32d3ba5c-7412-469d-9058-fb1a843d4d4c",
   "metadata": {},
   "source": [
    "# Lab work #1\n",
    "## Task 1"
   ]
  },
  {
   "cell_type": "code",
   "execution_count": 24,
   "id": "e40c802d-bb1e-4716-b83b-572a34e8db8b",
   "metadata": {},
   "outputs": [
    {
     "name": "stdout",
     "output_type": "stream",
     "text": [
      "[[28 15 26 36]\n",
      " [44 37  3 21]\n",
      " [35 21 23 20]\n",
      " [ 6 21 22  6]] \n",
      "\n",
      "65\n",
      "18\n",
      "47\n",
      "65\n",
      "60\n",
      "23\n",
      "56\n",
      "43\n",
      "29\n",
      "[[65 18 47]\n",
      " [65 60 23]\n",
      " [56 43 29]]\n"
     ]
    }
   ],
   "source": [
    "import numpy as np\n",
    "\n",
    "def fill_array(row=4, col=4):\n",
    "    return np.random.randint(50, size=(row,col))\n",
    "    \n",
    "\n",
    "def convolve(arr, row=4, col=4):\n",
    "    kernel = np.matrix([[1, 0], [0, 1]])\n",
    "    kernel_row = kernel_col = 2\n",
    "\n",
    "    output_row = row - kernel_row + 1\n",
    "    output_col = col - kernel_col + 1\n",
    "    \n",
    "    output = np.zeros((output_row, output_col), dtype=\"int\")\n",
    "    print(arr, \"\\n\")\n",
    "    for i in range(0, output_row):\n",
    "        for j in range(0, output_col):\n",
    "            output[i][j] = np.sum(np.multiply(arr[i:i+kernel_col,j:j+kernel_row], kernel))\n",
    "    return output\n",
    "\n",
    "arr = fill_array()\n",
    "result = convolve(arr)\n",
    "print(result)"
   ]
  },
  {
   "cell_type": "code",
   "execution_count": null,
   "id": "00bc2f08-040b-4f91-9983-5ea8c611f754",
   "metadata": {},
   "outputs": [],
   "source": []
  }
 ],
 "metadata": {
  "kernelspec": {
   "display_name": "Python 3 (ipykernel)",
   "language": "python",
   "name": "python3"
  },
  "language_info": {
   "codemirror_mode": {
    "name": "ipython",
    "version": 3
   },
   "file_extension": ".py",
   "mimetype": "text/x-python",
   "name": "python",
   "nbconvert_exporter": "python",
   "pygments_lexer": "ipython3",
   "version": "3.10.0"
  }
 },
 "nbformat": 4,
 "nbformat_minor": 5
}
